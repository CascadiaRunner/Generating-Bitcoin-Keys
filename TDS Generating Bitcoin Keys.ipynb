{
 "cells": [
  {
   "cell_type": "markdown",
   "metadata": {},
   "source": [
    "# Creating bitcoin private and public keys"
   ]
  },
  {
   "cell_type": "code",
   "execution_count": 1,
   "metadata": {},
   "outputs": [],
   "source": [
    "from bitcoin import *"
   ]
  },
  {
   "cell_type": "code",
   "execution_count": 2,
   "metadata": {},
   "outputs": [],
   "source": [
    "#Generate private key\n",
    "my_private_key = random_key()"
   ]
  },
  {
   "cell_type": "code",
   "execution_count": 3,
   "metadata": {},
   "outputs": [
    {
     "name": "stdout",
     "output_type": "stream",
     "text": [
      "Private Key: 20f53f75f6fee08c4773bdfb03cdeabf2097b93b50d0b9e6e800c550ce15a215\n",
      "\n"
     ]
    }
   ],
   "source": [
    "#display private key\n",
    "print(\"Private Key: %s\\n\" % my_private_key)"
   ]
  },
  {
   "cell_type": "code",
   "execution_count": 4,
   "metadata": {},
   "outputs": [
    {
     "name": "stdout",
     "output_type": "stream",
     "text": [
      "Public Key: 0444b530ec2d53b6bfce0add78b528a86dd8977567c7b440c651432b7fd5c57c56cf7163a3a81b977229d12d7bb539f1746af44ad0c04536512a00ab3948d666ef\n",
      "\n"
     ]
    }
   ],
   "source": [
    "#Generate public key\n",
    "my_public_key = privtopub(my_private_key)\n",
    "print(\"Public Key: %s\\n\" % my_public_key)"
   ]
  },
  {
   "cell_type": "code",
   "execution_count": 5,
   "metadata": {},
   "outputs": [
    {
     "name": "stdout",
     "output_type": "stream",
     "text": [
      "Bitcoin Address: 1Aw1wsLAXyia4QaxatfC29h8N9Lj9MhfqP\n",
      "\n"
     ]
    }
   ],
   "source": [
    "#Create a bitcoin address\n",
    "my_bitcoin_address = pubtoaddr(my_public_key)\n",
    "print(\"Bitcoin Address: %s\\n\" % my_bitcoin_address)"
   ]
  },
  {
   "cell_type": "markdown",
   "metadata": {},
   "source": [
    "# Creating a multisignature bitcoin address"
   ]
  },
  {
   "cell_type": "code",
   "execution_count": 6,
   "metadata": {},
   "outputs": [
    {
     "name": "stdout",
     "output_type": "stream",
     "text": [
      "Private Key1: 447c63799999790ef8230f6cb2cb8236a05816966f95f4af7ecfc8cb0da5b84e\n",
      "Private Key2: 6574d85e0188d3569dfae7c9f7432b8e33d4b414189d8dd2b77bd8d3dc45b6f3\n",
      "Private Key3: e6f2e4a3682ed89075cd8e65adf9ae1036e80486fa767905269760a5473d0af6\n",
      "\n",
      "\n"
     ]
    }
   ],
   "source": [
    "#!/usr/bin/env python\n",
    "'''\n",
    "Title - Create multi-signature address\n",
    "\n",
    "This program demonstrates the creation of\n",
    "Multi-signature bitcoin address.\n",
    "'''\n",
    "# import bitcoin\n",
    "from bitcoin import *\n",
    "\n",
    "# Create Private Keys\n",
    "my_private_key1 = random_key()\n",
    "my_private_key2 = random_key()\n",
    "my_private_key3 = random_key()\n",
    "\n",
    "print(\"Private Key1: %s\" % my_private_key1)\n",
    "print(\"Private Key2: %s\" % my_private_key2)\n",
    "print(\"Private Key3: %s\" % my_private_key3)\n",
    "print('\\n')"
   ]
  },
  {
   "cell_type": "code",
   "execution_count": 7,
   "metadata": {},
   "outputs": [
    {
     "name": "stdout",
     "output_type": "stream",
     "text": [
      "Public Key1: 04201a2a682fdb13031717fdcd5d83880c976b30f1b0f5898be0e8586f2c324101b78ba155a5876d8c7f0d1db471b8c4507bc0e8130a344b7c890f7f9b4dcb6b47\n",
      "Public Key2: 04ce2177498db35a39080eb8791fbf163d028a075a2b911a393334428f9846994fa14e31d281a8abc1eea8e0b61c09d202bc43572337c9526f66143545529e774d\n",
      "Public Key3: 0494d9c07108905fd1b6677db1a7be8e024c2381d6071f61b49577b95b501093c9d36b82082c1070c72f6cff25c70f3bf6d402ba1019d18991e1ff05998c7d44e5\n",
      "\n",
      "\n"
     ]
    }
   ],
   "source": [
    "# Create Public keys\n",
    "my_public_key1 = privtopub(my_private_key1)\n",
    "my_public_key2 = privtopub(my_private_key2)\n",
    "my_public_key3 = privtopub(my_private_key3)\n",
    "\n",
    "print(\"Public Key1: %s\" % my_public_key1)\n",
    "print(\"Public Key2: %s\" % my_public_key2)\n",
    "print(\"Public Key3: %s\" % my_public_key3)\n",
    "print('\\n')"
   ]
  },
  {
   "cell_type": "code",
   "execution_count": 8,
   "metadata": {},
   "outputs": [
    {
     "name": "stdout",
     "output_type": "stream",
     "text": [
      "Multi signature address: 3Pvk4kqTWGfRhe1VxBQpG1KUipnWxCrBF6\n"
     ]
    }
   ],
   "source": [
    "# Create Multi-signature address\n",
    "my_multi_sig = mk_multisig_script(my_private_key1, my_private_key2, my_private_key3, 2,3)\n",
    "my_multi_address = scriptaddr(my_multi_sig)\n",
    "print(\"Multi signature address: %s\" % my_multi_address)"
   ]
  },
  {
   "cell_type": "code",
   "execution_count": 9,
   "metadata": {},
   "outputs": [
    {
     "name": "stderr",
     "output_type": "stream",
     "text": [
      "The system cannot find the path specified.\n"
     ]
    },
    {
     "name": "stdout",
     "output_type": "stream",
     "text": [
      "[{'address': '329e5RtfraHHNPKGDMXNxtuS4QjZTXqBDg', 'value': 33769275, 'output': 'a09bc970853bd3acc1e3d6ca53edcaa4ecb0c48aa8df6f49a7a9b50e09cd8a1b:1', 'block_height': 536072, 'spend': 'e22ac6a71e5b3fb55c3e8bf29522424ba822c0c5cba91d25918259a93313a54f:0'}]\n"
     ]
    }
   ],
   "source": [
    "#looking at transaction history of a bitcoin address\n",
    "!/usr/bin/env python\n",
    "'''\n",
    "Title - Bitcoin Transaction History\n",
    "\n",
    "This program demonstrates listing history of a bitcoin address.\n",
    "'''\n",
    "# import bitcoin\n",
    "from bitcoin import *\n",
    "\n",
    "#View address transaction history\n",
    "a_valid_bitcoin_address = '329e5RtfraHHNPKGDMXNxtuS4QjZTXqBDg'\n",
    "print(history(a_valid_bitcoin_address))"
   ]
  },
  {
   "cell_type": "markdown",
   "metadata": {},
   "source": [
    "# Getting bitcoin exchange rates from Blockchain.info"
   ]
  },
  {
   "cell_type": "code",
   "execution_count": 10,
   "metadata": {},
   "outputs": [],
   "source": [
    "from blockchain import exchangerates"
   ]
  },
  {
   "cell_type": "code",
   "execution_count": 11,
   "metadata": {},
   "outputs": [
    {
     "name": "stdout",
     "output_type": "stream",
     "text": [
      "Bitcoin Prices in various currencies:\n",
      "USD 8066.01\n",
      "AUD 11912.66\n",
      "BRL 32726.24\n",
      "CAD 10740.82\n",
      "CHF 8030.93\n",
      "CLP 5769650.37\n",
      "CNY 57658.19\n",
      "DKK 54869.66\n",
      "EUR 7360.69\n",
      "GBP 6539.13\n",
      "HKD 63235.45\n",
      "INR 571273.4\n",
      "ISK 998491.47\n",
      "JPY 863400.74\n",
      "KRW 9616704.77\n",
      "NZD 12769.71\n",
      "PLN 31740.97\n",
      "RUB 521554.09\n",
      "SEK 79388.53\n",
      "SGD 11122.59\n",
      "THB 245376.7\n",
      "TWD 249159.16\n"
     ]
    }
   ],
   "source": [
    "# get the Bitcoin rates in various currencies\n",
    "ticker = exchangerates.get_ticker()\n",
    "\n",
    "# print the Bitcoin price for every currency\n",
    "print(\"Bitcoin Prices in various currencies:\")\n",
    "for k in ticker:\n",
    " print(k, ticker[k].p15min)"
   ]
  },
  {
   "cell_type": "code",
   "execution_count": 12,
   "metadata": {},
   "outputs": [
    {
     "name": "stdout",
     "output_type": "stream",
     "text": [
      "\n",
      "100 euros in Bitcoin: 0.01358572 \n"
     ]
    }
   ],
   "source": [
    "# Getting Bitcoin value for a particular amount and currency\n",
    "btc = exchangerates.to_btc('EUR', 100)\n",
    "print(\"\\n100 euros in Bitcoin: %s \" % btc)"
   ]
  },
  {
   "cell_type": "markdown",
   "metadata": {},
   "source": [
    "### Running statistics"
   ]
  },
  {
   "cell_type": "code",
   "execution_count": 13,
   "metadata": {},
   "outputs": [
    {
     "name": "stdout",
     "output_type": "stream",
     "text": [
      "Bitcoin Trade Volume: 8345.66\n",
      "\n"
     ]
    }
   ],
   "source": [
    "from blockchain import statistics\n",
    "\n",
    "# get the stats object\n",
    "stats = statistics.get()\n",
    "\n",
    "# get and print Bitcoin trade volume\n",
    "print(\"Bitcoin Trade Volume: %s\\n\" % stats.trade_volume_btc)"
   ]
  },
  {
   "cell_type": "code",
   "execution_count": 14,
   "metadata": {},
   "outputs": [
    {
     "name": "stdout",
     "output_type": "stream",
     "text": [
      "Bitcoin mined: 205000000000\n",
      "\n",
      "Bitcoin market price: 8072.84\n",
      "\n"
     ]
    }
   ],
   "source": [
    "# get and print Bitcoin mined\n",
    "print(\"Bitcoin mined: %s\\n\" % stats.btc_mined)\n",
    "\n",
    "# get and print Bitcoin market price in usd\n",
    "print(\"Bitcoin market price: %s\\n\" % stats.market_price_usd)"
   ]
  },
  {
   "cell_type": "code",
   "execution_count": null,
   "metadata": {},
   "outputs": [],
   "source": []
  }
 ],
 "metadata": {
  "kernelspec": {
   "display_name": "Python 3",
   "language": "python",
   "name": "python3"
  },
  "language_info": {
   "codemirror_mode": {
    "name": "ipython",
    "version": 3
   },
   "file_extension": ".py",
   "mimetype": "text/x-python",
   "name": "python",
   "nbconvert_exporter": "python",
   "pygments_lexer": "ipython3",
   "version": "3.7.3"
  }
 },
 "nbformat": 4,
 "nbformat_minor": 2
}
